{
 "cells": [
  {
   "cell_type": "code",
   "execution_count": 22,
   "metadata": {},
   "outputs": [],
   "source": [
    "from collections import namedtuple\n",
    "import numpy as np\n",
    "\n",
    "# Define a namedtuple type for datasets with more descriptive names\n",
    "Dataset = namedtuple('Dataset', ['X_train', 'y_train', 'X_test', 'y_test'])\n",
    "\n",
    "# Paths to the dataset files\n",
    "CIFAR_DATASET_PATH = \"./datasets/CIFAR.npz\"\n",
    "MNIST_DATASET5_PATH = \"./datasets/FashionMNIST0.5.npz\"\n",
    "MNIST_DATASET6_PATH = \"./datasets/FashionMNIST0.6.npz\"\n",
    "\n",
    "# Function to load a dataset and return a namedtuple\n",
    "def load_dataset(path):\n",
    "    data = np.load(path)\n",
    "    return Dataset(X_train=data['Xtr'], y_train=data['Str'], X_test=data['Xts'], y_test=data['Yts'])\n",
    "\n",
    "# Load each dataset into a namedtuple\n",
    "cifar_dataset = load_dataset(CIFAR_DATASET_PATH)\n",
    "mnist5_dataset = load_dataset(MNIST_DATASET5_PATH)\n",
    "mnist6_dataset = load_dataset(MNIST_DATASET6_PATH)\n"
   ]
  },
  {
   "cell_type": "code",
   "execution_count": 25,
   "metadata": {},
   "outputs": [
    {
     "data": {
      "text/plain": [
       "array([2, 0, 1, ..., 2, 2, 1])"
      ]
     },
     "execution_count": 25,
     "metadata": {},
     "output_type": "execute_result"
    }
   ],
   "source": [
    "cifar_dataset."
   ]
  },
  {
   "cell_type": "code",
   "execution_count": 3,
   "metadata": {},
   "outputs": [
    {
     "data": {
      "text/plain": [
       "KeysView(NpzFile './datasets/CIFAR.npz' with keys: Xtr, Str, Xts, Yts)"
      ]
     },
     "execution_count": 3,
     "metadata": {},
     "output_type": "execute_result"
    }
   ],
   "source": [
    "data.keys()"
   ]
  }
 ],
 "metadata": {
  "kernelspec": {
   "display_name": "venv",
   "language": "python",
   "name": "python3"
  },
  "language_info": {
   "codemirror_mode": {
    "name": "ipython",
    "version": 3
   },
   "file_extension": ".py",
   "mimetype": "text/x-python",
   "name": "python",
   "nbconvert_exporter": "python",
   "pygments_lexer": "ipython3",
   "version": "3.10.9"
  }
 },
 "nbformat": 4,
 "nbformat_minor": 2
}
