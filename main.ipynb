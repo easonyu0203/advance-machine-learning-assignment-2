{
 "cells": [
  {
   "cell_type": "markdown",
   "metadata": {},
   "source": [
    "# Experiments\n",
    "\n",
    "Base on the my resech study, we test out Generalized Cross Entropy and NLA, in this notebook we are several experiments and will show the result in the paper"
   ]
  },
  {
   "cell_type": "code",
   "execution_count": 6,
   "metadata": {
    "ExecuteTime": {
     "end_time": "2023-11-11T05:28:45.456998400Z",
     "start_time": "2023-11-11T05:28:42.748106100Z"
    }
   },
   "outputs": [
    {
     "name": "stdout",
     "output_type": "stream",
     "text": [
      "Skipping already run trainer: MNIST5_mnist_ce_no_alpha_no_tm\n",
      "Skipping already run trainer: MNIST5_mnist_gce_alpha_0.1_no_tm\n",
      "Skipping already run trainer: MNIST5_mnist_gce_alpha_0.3_no_tm\n",
      "Skipping already run trainer: MNIST5_mnist_gce_alpha_0.5_no_tm\n",
      "Skipping already run trainer: MNIST5_mnist_gce_alpha_0.7_no_tm\n",
      "Skipping already run trainer: MNIST5_mnist_gce_alpha_0.9_no_tm\n",
      "Skipping already run trainer: MNIST5_mnist_gce_alpha_0.99_no_tm\n",
      "Skipping already run trainer: MNIST5_mnist_nal_ce_no_alpha_tm\n",
      "Skipping already run trainer: MNIST5_mnist_nal_ce_no_alpha_no_tm\n",
      "Skipping already run trainer: MNIST5_mnist_nal_gce_alpha_0.1_tm\n",
      "Skipping already run trainer: MNIST5_mnist_nal_gce_alpha_0.1_no_tm\n",
      "Skipping already run trainer: MNIST5_mnist_nal_gce_alpha_0.3_tm\n",
      "Skipping already run trainer: MNIST5_mnist_nal_gce_alpha_0.3_no_tm\n",
      "Skipping already run trainer: MNIST5_mnist_nal_gce_alpha_0.5_tm\n",
      "Skipping already run trainer: MNIST5_mnist_nal_gce_alpha_0.5_no_tm\n",
      "Skipping already run trainer: MNIST5_mnist_nal_gce_alpha_0.7_tm\n",
      "Skipping already run trainer: MNIST5_mnist_nal_gce_alpha_0.7_no_tm\n",
      "Skipping already run trainer: MNIST5_mnist_nal_gce_alpha_0.9_tm\n",
      "Skipping already run trainer: MNIST5_mnist_nal_gce_alpha_0.9_no_tm\n",
      "Skipping already run trainer: MNIST5_mnist_nal_gce_alpha_0.99_tm\n",
      "Skipping already run trainer: MNIST5_mnist_nal_gce_alpha_0.99_no_tm\n",
      "Skipping already run trainer: MNIST6_mnist_ce_no_alpha_no_tm\n",
      "Skipping already run trainer: MNIST6_mnist_gce_alpha_0.1_no_tm\n",
      "Skipping already run trainer: MNIST6_mnist_gce_alpha_0.3_no_tm\n",
      "Skipping already run trainer: MNIST6_mnist_gce_alpha_0.5_no_tm\n",
      "Skipping already run trainer: MNIST6_mnist_gce_alpha_0.7_no_tm\n",
      "Skipping already run trainer: MNIST6_mnist_gce_alpha_0.9_no_tm\n",
      "Skipping already run trainer: MNIST6_mnist_gce_alpha_0.99_no_tm\n",
      "Skipping already run trainer: MNIST6_mnist_nal_ce_no_alpha_tm\n",
      "Skipping already run trainer: MNIST6_mnist_nal_ce_no_alpha_no_tm\n",
      "Skipping already run trainer: MNIST6_mnist_nal_gce_alpha_0.1_tm\n",
      "Skipping already run trainer: MNIST6_mnist_nal_gce_alpha_0.1_no_tm\n",
      "Skipping already run trainer: MNIST6_mnist_nal_gce_alpha_0.3_tm\n",
      "Skipping already run trainer: MNIST6_mnist_nal_gce_alpha_0.3_no_tm\n",
      "Skipping already run trainer: MNIST6_mnist_nal_gce_alpha_0.5_tm\n",
      "Skipping already run trainer: MNIST6_mnist_nal_gce_alpha_0.5_no_tm\n",
      "Skipping already run trainer: MNIST6_mnist_nal_gce_alpha_0.7_tm\n",
      "Skipping already run trainer: MNIST6_mnist_nal_gce_alpha_0.7_no_tm\n",
      "Skipping already run trainer: MNIST6_mnist_nal_gce_alpha_0.9_tm\n",
      "Skipping already run trainer: MNIST6_mnist_nal_gce_alpha_0.9_no_tm\n",
      "Skipping already run trainer: MNIST6_mnist_nal_gce_alpha_0.99_tm\n",
      "Skipping already run trainer: MNIST6_mnist_nal_gce_alpha_0.99_no_tm\n",
      "Skipping already run trainer: CIFAR_cifar_ce_no_alpha_no_tm\n",
      "Skipping already run trainer: CIFAR_cifar_gce_alpha_0.1_no_tm\n",
      "Skipping already run trainer: CIFAR_cifar_gce_alpha_0.3_no_tm\n",
      "Skipping already run trainer: CIFAR_cifar_gce_alpha_0.5_no_tm\n",
      "Skipping already run trainer: CIFAR_cifar_gce_alpha_0.7_no_tm\n",
      "Skipping already run trainer: CIFAR_cifar_gce_alpha_0.9_no_tm\n",
      "Skipping already run trainer: CIFAR_cifar_gce_alpha_0.99_no_tm\n",
      "Skipping already run trainer: CIFAR_cifar_nal_ce_no_alpha_no_tm\n",
      "Skipping already run trainer: CIFAR_cifar_nal_gce_alpha_0.1_no_tm\n",
      "Skipping already run trainer: CIFAR_cifar_nal_gce_alpha_0.3_no_tm\n",
      "Skipping already run trainer: CIFAR_cifar_nal_gce_alpha_0.5_no_tm\n",
      "Skipping already run trainer: CIFAR_cifar_nal_gce_alpha_0.7_no_tm\n",
      "Skipping already run trainer: CIFAR_cifar_nal_gce_alpha_0.9_no_tm\n",
      "Skipping already run trainer: CIFAR_cifar_nal_gce_alpha_0.99_no_tm\n"
     ]
    }
   ],
   "source": [
    "# load experiment results from pickle file\n",
    "import pickle\n",
    "from main import look_up_experiment\n",
    "\n",
    "with open('experiment_results.pickle', 'rb') as handle:\n",
    "    experiment_results = pickle.load(handle)"
   ]
  },
  {
   "cell_type": "code",
   "execution_count": 4,
   "outputs": [
    {
     "data": {
      "text/plain": "56"
     },
     "execution_count": 4,
     "metadata": {},
     "output_type": "execute_result"
    }
   ],
   "source": [
    "len(experiment_results.keys())"
   ],
   "metadata": {
    "collapsed": false,
    "ExecuteTime": {
     "end_time": "2023-11-11T05:28:15.240726700Z",
     "start_time": "2023-11-11T05:28:15.235726900Z"
    }
   }
  },
  {
   "cell_type": "code",
   "execution_count": 5,
   "metadata": {
    "ExecuteTime": {
     "end_time": "2023-11-11T05:28:38.237858Z",
     "start_time": "2023-11-11T05:28:38.000210800Z"
    }
   },
   "outputs": [
    {
     "ename": "NameError",
     "evalue": "name 'look_up_experiment' is not defined",
     "output_type": "error",
     "traceback": [
      "\u001B[1;31m---------------------------------------------------------------------------\u001B[0m",
      "\u001B[1;31mNameError\u001B[0m                                 Traceback (most recent call last)",
      "Cell \u001B[1;32mIn[5], line 2\u001B[0m\n\u001B[0;32m      1\u001B[0m \u001B[38;5;66;03m# Example of looking up an experiment result\u001B[39;00m\n\u001B[1;32m----> 2\u001B[0m result \u001B[38;5;241m=\u001B[39m \u001B[43mlook_up_experiment\u001B[49m(\u001B[38;5;124m'\u001B[39m\u001B[38;5;124mMNIST5\u001B[39m\u001B[38;5;124m'\u001B[39m, \u001B[38;5;124m'\u001B[39m\u001B[38;5;124mmnist_nal\u001B[39m\u001B[38;5;124m'\u001B[39m, \u001B[38;5;124m'\u001B[39m\u001B[38;5;124mgce\u001B[39m\u001B[38;5;124m'\u001B[39m, \u001B[38;5;241m0.9\u001B[39m, \u001B[38;5;28;01mTrue\u001B[39;00m)\n\u001B[0;32m      3\u001B[0m \u001B[38;5;28mprint\u001B[39m(result)\n",
      "\u001B[1;31mNameError\u001B[0m: name 'look_up_experiment' is not defined"
     ]
    }
   ],
   "source": [
    "\n",
    "# Example of looking up an experiment result\n",
    "result = look_up_experiment('MNIST5', 'mnist_nal', 'gce', 0.9, True)\n",
    "print(result)"
   ]
  }
 ],
 "metadata": {
  "kernelspec": {
   "display_name": "venv",
   "language": "python",
   "name": "python3"
  },
  "language_info": {
   "codemirror_mode": {
    "name": "ipython",
    "version": 3
   },
   "file_extension": ".py",
   "mimetype": "text/x-python",
   "name": "python",
   "nbconvert_exporter": "python",
   "pygments_lexer": "ipython3",
   "version": "3.10.13"
  }
 },
 "nbformat": 4,
 "nbformat_minor": 2
}
