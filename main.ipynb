{
 "cells": [
  {
   "cell_type": "code",
   "execution_count": 1,
   "metadata": {},
   "outputs": [
    {
     "name": "stderr",
     "output_type": "stream",
     "text": [
      "Epoch (Iteration 1): 100%|██████████| 1/1 [00:08<00:00,  8.44s/epoch, Train Loss=1.1300, Train Acc=35.40%, Val Loss=1.0943, Val Acc=38.31%]\n"
     ]
    }
   ],
   "source": [
    "from experiment import ExperimentConfig, TrainEvalExperiment\n",
    "\n",
    "\n",
    "experiment_config = ExperimentConfig(\"mnist\", \"MNIST6\", 0.001, 64, 1)\n",
    "experiment = TrainEvalExperiment(experiment_config)\n",
    "experiment.run_experiment()"
   ]
  },
  {
   "cell_type": "code",
   "execution_count": 6,
   "metadata": {},
   "outputs": [
    {
     "data": {
      "text/plain": [
       "{'train': {'accuracy': [0.38938888907432556],\n",
       "  'precision': [0.38938888907432556],\n",
       "  'recall': [0.38938888907432556],\n",
       "  'f1': [0.38938888907432556]},\n",
       " 'test': {'accuracy': [0.7570000290870667],\n",
       "  'precision': [0.7570000290870667],\n",
       "  'recall': [0.7570000290870667],\n",
       "  'f1': [0.7570000290870667]}}"
      ]
     },
     "execution_count": 6,
     "metadata": {},
     "output_type": "execute_result"
    }
   ],
   "source": [
    "experiment.metric_values"
   ]
  }
 ],
 "metadata": {
  "kernelspec": {
   "display_name": "venv",
   "language": "python",
   "name": "python3"
  },
  "language_info": {
   "codemirror_mode": {
    "name": "ipython",
    "version": 3
   },
   "file_extension": ".py",
   "mimetype": "text/x-python",
   "name": "python",
   "nbconvert_exporter": "python",
   "pygments_lexer": "ipython3",
   "version": "3.10.9"
  }
 },
 "nbformat": 4,
 "nbformat_minor": 2
}
